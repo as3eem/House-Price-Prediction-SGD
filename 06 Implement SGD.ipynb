{
 "cells": [
  {
   "cell_type": "code",
   "execution_count": 440,
   "metadata": {
    "colab": {},
    "colab_type": "code",
    "id": "REYPoTJ1Af7u"
   },
   "outputs": [],
   "source": [
    "import warnings\n",
    "warnings.filterwarnings(\"ignore\")\n",
    "from sklearn.datasets import load_boston\n",
    "from random import seed\n",
    "from random import randrange\n",
    "from csv import reader\n",
    "from math import sqrt\n",
    "from sklearn import preprocessing\n",
    "import pandas as pd\n",
    "import numpy as np\n",
    "import matplotlib.pyplot as plt\n",
    "from prettytable import PrettyTable\n",
    "from sklearn.linear_model import SGDRegressor\n",
    "from sklearn import preprocessing\n",
    "from sklearn.metrics import mean_squared_error\n",
    "import sklearn\n",
    "from sklearn.model_selection import train_test_split"
   ]
  },
  {
   "cell_type": "code",
   "execution_count": 441,
   "metadata": {
    "colab": {},
    "colab_type": "code",
    "id": "NTQ2iH-kAwbo"
   },
   "outputs": [],
   "source": [
    "boston= load_boston()\n",
    "bos = pd.DataFrame(boston.data)"
   ]
  },
  {
   "cell_type": "markdown",
   "metadata": {},
   "source": [
    "# 1. OWN VERSION OF SGDRegressor"
   ]
  },
  {
   "cell_type": "markdown",
   "metadata": {},
   "source": [
    "#### > Featurisation "
   ]
  },
  {
   "cell_type": "code",
   "execution_count": 442,
   "metadata": {},
   "outputs": [
    {
     "data": {
      "text/html": [
       "<div>\n",
       "<style scoped>\n",
       "    .dataframe tbody tr th:only-of-type {\n",
       "        vertical-align: middle;\n",
       "    }\n",
       "\n",
       "    .dataframe tbody tr th {\n",
       "        vertical-align: top;\n",
       "    }\n",
       "\n",
       "    .dataframe thead th {\n",
       "        text-align: right;\n",
       "    }\n",
       "</style>\n",
       "<table border=\"1\" class=\"dataframe\">\n",
       "  <thead>\n",
       "    <tr style=\"text-align: right;\">\n",
       "      <th></th>\n",
       "      <th>0</th>\n",
       "      <th>1</th>\n",
       "      <th>2</th>\n",
       "      <th>3</th>\n",
       "      <th>4</th>\n",
       "      <th>5</th>\n",
       "      <th>6</th>\n",
       "      <th>7</th>\n",
       "      <th>8</th>\n",
       "      <th>9</th>\n",
       "      <th>10</th>\n",
       "      <th>11</th>\n",
       "      <th>12</th>\n",
       "      <th>13</th>\n",
       "    </tr>\n",
       "  </thead>\n",
       "  <tbody>\n",
       "    <tr>\n",
       "      <th>0</th>\n",
       "      <td>0.00632</td>\n",
       "      <td>18.0</td>\n",
       "      <td>2.31</td>\n",
       "      <td>0.0</td>\n",
       "      <td>0.538</td>\n",
       "      <td>6.575</td>\n",
       "      <td>65.2</td>\n",
       "      <td>4.0900</td>\n",
       "      <td>1.0</td>\n",
       "      <td>296.0</td>\n",
       "      <td>15.3</td>\n",
       "      <td>396.90</td>\n",
       "      <td>4.98</td>\n",
       "      <td>0.001847</td>\n",
       "    </tr>\n",
       "    <tr>\n",
       "      <th>1</th>\n",
       "      <td>0.02731</td>\n",
       "      <td>0.0</td>\n",
       "      <td>7.07</td>\n",
       "      <td>0.0</td>\n",
       "      <td>0.469</td>\n",
       "      <td>6.421</td>\n",
       "      <td>78.9</td>\n",
       "      <td>4.9671</td>\n",
       "      <td>2.0</td>\n",
       "      <td>242.0</td>\n",
       "      <td>17.8</td>\n",
       "      <td>396.90</td>\n",
       "      <td>9.14</td>\n",
       "      <td>0.006842</td>\n",
       "    </tr>\n",
       "    <tr>\n",
       "      <th>2</th>\n",
       "      <td>0.02729</td>\n",
       "      <td>0.0</td>\n",
       "      <td>7.07</td>\n",
       "      <td>0.0</td>\n",
       "      <td>0.469</td>\n",
       "      <td>7.185</td>\n",
       "      <td>61.1</td>\n",
       "      <td>4.9671</td>\n",
       "      <td>2.0</td>\n",
       "      <td>242.0</td>\n",
       "      <td>17.8</td>\n",
       "      <td>392.83</td>\n",
       "      <td>4.03</td>\n",
       "      <td>0.007650</td>\n",
       "    </tr>\n",
       "    <tr>\n",
       "      <th>3</th>\n",
       "      <td>0.03237</td>\n",
       "      <td>0.0</td>\n",
       "      <td>2.18</td>\n",
       "      <td>0.0</td>\n",
       "      <td>0.458</td>\n",
       "      <td>6.998</td>\n",
       "      <td>45.8</td>\n",
       "      <td>6.0622</td>\n",
       "      <td>3.0</td>\n",
       "      <td>222.0</td>\n",
       "      <td>18.7</td>\n",
       "      <td>394.63</td>\n",
       "      <td>2.94</td>\n",
       "      <td>0.007709</td>\n",
       "    </tr>\n",
       "    <tr>\n",
       "      <th>4</th>\n",
       "      <td>0.06905</td>\n",
       "      <td>0.0</td>\n",
       "      <td>2.18</td>\n",
       "      <td>0.0</td>\n",
       "      <td>0.458</td>\n",
       "      <td>7.147</td>\n",
       "      <td>54.2</td>\n",
       "      <td>6.0622</td>\n",
       "      <td>3.0</td>\n",
       "      <td>222.0</td>\n",
       "      <td>18.7</td>\n",
       "      <td>396.90</td>\n",
       "      <td>5.33</td>\n",
       "      <td>0.016795</td>\n",
       "    </tr>\n",
       "    <tr>\n",
       "      <th>5</th>\n",
       "      <td>0.02985</td>\n",
       "      <td>0.0</td>\n",
       "      <td>2.18</td>\n",
       "      <td>0.0</td>\n",
       "      <td>0.458</td>\n",
       "      <td>6.430</td>\n",
       "      <td>58.7</td>\n",
       "      <td>6.0622</td>\n",
       "      <td>3.0</td>\n",
       "      <td>222.0</td>\n",
       "      <td>18.7</td>\n",
       "      <td>394.12</td>\n",
       "      <td>5.21</td>\n",
       "      <td>0.006532</td>\n",
       "    </tr>\n",
       "    <tr>\n",
       "      <th>6</th>\n",
       "      <td>0.08829</td>\n",
       "      <td>12.5</td>\n",
       "      <td>7.87</td>\n",
       "      <td>0.0</td>\n",
       "      <td>0.524</td>\n",
       "      <td>6.012</td>\n",
       "      <td>66.6</td>\n",
       "      <td>5.5605</td>\n",
       "      <td>5.0</td>\n",
       "      <td>311.0</td>\n",
       "      <td>15.2</td>\n",
       "      <td>395.60</td>\n",
       "      <td>12.43</td>\n",
       "      <td>0.016084</td>\n",
       "    </tr>\n",
       "    <tr>\n",
       "      <th>7</th>\n",
       "      <td>0.14455</td>\n",
       "      <td>12.5</td>\n",
       "      <td>7.87</td>\n",
       "      <td>0.0</td>\n",
       "      <td>0.524</td>\n",
       "      <td>6.172</td>\n",
       "      <td>96.1</td>\n",
       "      <td>5.9505</td>\n",
       "      <td>5.0</td>\n",
       "      <td>311.0</td>\n",
       "      <td>15.2</td>\n",
       "      <td>396.90</td>\n",
       "      <td>19.15</td>\n",
       "      <td>0.025262</td>\n",
       "    </tr>\n",
       "    <tr>\n",
       "      <th>8</th>\n",
       "      <td>0.21124</td>\n",
       "      <td>12.5</td>\n",
       "      <td>7.87</td>\n",
       "      <td>0.0</td>\n",
       "      <td>0.524</td>\n",
       "      <td>5.631</td>\n",
       "      <td>100.0</td>\n",
       "      <td>6.0821</td>\n",
       "      <td>5.0</td>\n",
       "      <td>311.0</td>\n",
       "      <td>15.2</td>\n",
       "      <td>386.63</td>\n",
       "      <td>29.93</td>\n",
       "      <td>0.032952</td>\n",
       "    </tr>\n",
       "    <tr>\n",
       "      <th>9</th>\n",
       "      <td>0.17004</td>\n",
       "      <td>12.5</td>\n",
       "      <td>7.87</td>\n",
       "      <td>0.0</td>\n",
       "      <td>0.524</td>\n",
       "      <td>6.004</td>\n",
       "      <td>85.9</td>\n",
       "      <td>6.5921</td>\n",
       "      <td>5.0</td>\n",
       "      <td>311.0</td>\n",
       "      <td>15.2</td>\n",
       "      <td>386.71</td>\n",
       "      <td>17.10</td>\n",
       "      <td>0.026094</td>\n",
       "    </tr>\n",
       "  </tbody>\n",
       "</table>\n",
       "</div>"
      ],
      "text/plain": [
       "        0     1     2    3      4      5      6       7    8      9     10  \\\n",
       "0  0.00632  18.0  2.31  0.0  0.538  6.575   65.2  4.0900  1.0  296.0  15.3   \n",
       "1  0.02731   0.0  7.07  0.0  0.469  6.421   78.9  4.9671  2.0  242.0  17.8   \n",
       "2  0.02729   0.0  7.07  0.0  0.469  7.185   61.1  4.9671  2.0  242.0  17.8   \n",
       "3  0.03237   0.0  2.18  0.0  0.458  6.998   45.8  6.0622  3.0  222.0  18.7   \n",
       "4  0.06905   0.0  2.18  0.0  0.458  7.147   54.2  6.0622  3.0  222.0  18.7   \n",
       "5  0.02985   0.0  2.18  0.0  0.458  6.430   58.7  6.0622  3.0  222.0  18.7   \n",
       "6  0.08829  12.5  7.87  0.0  0.524  6.012   66.6  5.5605  5.0  311.0  15.2   \n",
       "7  0.14455  12.5  7.87  0.0  0.524  6.172   96.1  5.9505  5.0  311.0  15.2   \n",
       "8  0.21124  12.5  7.87  0.0  0.524  5.631  100.0  6.0821  5.0  311.0  15.2   \n",
       "9  0.17004  12.5  7.87  0.0  0.524  6.004   85.9  6.5921  5.0  311.0  15.2   \n",
       "\n",
       "       11     12        13  \n",
       "0  396.90   4.98  0.001847  \n",
       "1  396.90   9.14  0.006842  \n",
       "2  392.83   4.03  0.007650  \n",
       "3  394.63   2.94  0.007709  \n",
       "4  396.90   5.33  0.016795  \n",
       "5  394.12   5.21  0.006532  \n",
       "6  395.60  12.43  0.016084  \n",
       "7  396.90  19.15  0.025262  \n",
       "8  386.63  29.93  0.032952  \n",
       "9  386.71  17.10  0.026094  "
      ]
     },
     "execution_count": 442,
     "metadata": {},
     "output_type": "execute_result"
    }
   ],
   "source": [
    "\n",
    "# FEATURISATION is required to attain similar MSE as that of sklearn SGDRegressor\n",
    "\n",
    "bos[13] = 1000 * bos[0]*bos[4]  * bos[5]/(bos[7] * bos[9])\n",
    "\n",
    "#  FEATURISATION-LOGIC\n",
    "#  bos[0] => Crime-Rate | range = [0,1) | needs to be minimised hence multiplied\n",
    "#  bos[4] => Nitric-Oxide(NO) | range = [0,1) | needs to be minimised hence multiplied\n",
    "#  bos[5] => no. of rooms/dwell | range>=0 | needs to be maximised hence multiplied\n",
    "#  bos[7] => Distance to employment centres | range>=1(in-general) |needs to be minimised hence divided\n",
    "#  bos[9] => Tax | range>=1(in-general) | needs to be minimised hence divided\n",
    "\n",
    "#  new dataFrame is having a new custom column-13 which has featurised value by me and \n",
    "#  further to give some wightage to these custom-column13-values, 100 is multiplied in above featurisation formula \n",
    "X.head(10)"
   ]
  },
  {
   "cell_type": "code",
   "execution_count": 443,
   "metadata": {
    "scrolled": true
   },
   "outputs": [
    {
     "name": "stdout",
     "output_type": "stream",
     "text": [
      "(339, 14)\n",
      "(167, 14)\n",
      "(339,)\n",
      "(167,)\n"
     ]
    }
   ],
   "source": [
    "X_train, X_test, Y_train, Y_test = train_test_split(X, Y, test_size = 0.33, random_state = 5)\n",
    "print(X_train.shape)\n",
    "print(X_test.shape)\n",
    "print(Y_train.shape)\n",
    "print(Y_test.shape)"
   ]
  },
  {
   "cell_type": "code",
   "execution_count": 444,
   "metadata": {
    "colab": {},
    "colab_type": "code",
    "id": "FgUW39s6Be0U",
    "scrolled": false
   },
   "outputs": [],
   "source": [
    "scaler = preprocessing.StandardScaler().fit(X_train)\n",
    "X_train = scaler.transform(X_train)\n",
    "X_test = scaler.transform(X_test)\n",
    "\n",
    "\n",
    "X_train = pd.DataFrame(X_train)\n",
    "X_test = pd.DataFrame(X_test)\n",
    "\n",
    "# adding last column as target label because SGD requires random sampling and hence we need to attach class labels with data\n",
    "X_train['cost'] = np.array(Y_train)\n",
    "X_test['cost'] = np.array(Y_test)"
   ]
  },
  {
   "cell_type": "markdown",
   "metadata": {},
   "source": [
    "####  > Defining SGD parameters\n"
   ]
  },
  {
   "cell_type": "code",
   "execution_count": 445,
   "metadata": {},
   "outputs": [],
   "source": [
    "w = np.zeros(14) # initial weight vector\n",
    "# w = np.array([np.random.normal(loc = 0.0, scale = 1.0, size = 14)]) \n",
    "n = 9000 # n_iters\n",
    "r = 0.01 # learning_rate\n",
    "k= 50 # batch_size\n",
    "b = 0 #considering zero_intercept"
   ]
  },
  {
   "cell_type": "markdown",
   "metadata": {},
   "source": [
    "#### > My own SGDRegressor"
   ]
  },
  {
   "cell_type": "code",
   "execution_count": 446,
   "metadata": {
    "scrolled": true
   },
   "outputs": [],
   "source": [
    "for j in range(1,n):    \n",
    "    batch = X_train.sample(k)\n",
    "    x = np.array(batch.drop('cost',axis=1))\n",
    "    y = np.array(batch['cost'])\n",
    "    w_temp = np.zeros(14) \n",
    "    b_temp = 0\n",
    "    \n",
    "    for z in range(1,k): \n",
    "        q1 = -2 * x[z] \n",
    "        q2 = y[z]\n",
    "        q3 = np.dot(w,x[z])\n",
    "        q5 = (q2 - q3)\n",
    "        q4 = (q1 * q5)\n",
    "        w_temp= w_temp + q4\n",
    "        b_temp = (-2)*( q2 - ( q3 + b ) )   \n",
    "        \n",
    "    w-=(r*w_temp/k)\n",
    "    b-=(r*b_temp/k)\n"
   ]
  },
  {
   "cell_type": "markdown",
   "metadata": {},
   "source": [
    "#### > Achieved Weight Vector"
   ]
  },
  {
   "cell_type": "code",
   "execution_count": 447,
   "metadata": {},
   "outputs": [
    {
     "name": "stdout",
     "output_type": "stream",
     "text": [
      "Achieved Weight Vector: \n",
      "\n",
      " [ 1.17086143  0.74730775 -0.73362867  0.55727437 -1.25325151  3.20668205\n",
      " -0.24720428 -2.05156827  2.83403376 -2.83875406 -2.51266015  0.80745851\n",
      " -3.40106585 -2.35805456]\n"
     ]
    }
   ],
   "source": [
    "print(\"Achieved Weight Vector: \\n\\n\",w)"
   ]
  },
  {
   "cell_type": "markdown",
   "metadata": {},
   "source": [
    "#### > Achieved Intercept"
   ]
  },
  {
   "cell_type": "code",
   "execution_count": 448,
   "metadata": {},
   "outputs": [
    {
     "name": "stdout",
     "output_type": "stream",
     "text": [
      "Achieved Intercept:    21.869065702196735\n"
     ]
    }
   ],
   "source": [
    "\n",
    "print(\"Achieved Intercept:   \",b)"
   ]
  },
  {
   "cell_type": "markdown",
   "metadata": {},
   "source": [
    "#### > Graphical Analysis of my SGDRegressor prediction "
   ]
  },
  {
   "cell_type": "code",
   "execution_count": 449,
   "metadata": {
    "scrolled": false
   },
   "outputs": [
    {
     "data": {
      "image/png": "[encoded data removed]",
      "text/plain": [
       "<Figure size 432x288 with 1 Axes>"
      ]
     },
     "metadata": {
      "needs_background": "light"
     },
     "output_type": "display_data"
    },
    {
     "name": "stdout",
     "output_type": "stream",
     "text": [
      "Mean Squared Error:  22.235266486672284\n"
     ]
    }
   ],
   "source": [
    "\n",
    "###### Plot on Train-Data ######\n",
    "y_actual = X_train['cost']\n",
    "y_pred = X_train.drop('cost',axis=1).dot(w.T) + b\n",
    "\n",
    "\n",
    "plt.scatter(y_actual,y_pred)\n",
    "plt.xlabel('Actual Prices')\n",
    "plt.ylabel('Predicted Prices')\n",
    "plt.title('Actual vs Predicted prices with my SGDRegresson on TRAIN Data')\n",
    "plt.show()\n",
    "\n",
    "loss1 = mean_squared_error(y_actual, y_pred)\n",
    "\n",
    "print(\"Mean Squared Error: \",loss1)\n"
   ]
  },
  {
   "cell_type": "code",
   "execution_count": 450,
   "metadata": {},
   "outputs": [
    {
     "data": {
      "image/png": "[encoded data removed]",
      "text/plain": [
       "<Figure size 432x288 with 1 Axes>"
      ]
     },
     "metadata": {
      "needs_background": "light"
     },
     "output_type": "display_data"
    },
    {
     "name": "stdout",
     "output_type": "stream",
     "text": [
      "Mean Squared Error:  33.45862666219906\n"
     ]
    }
   ],
   "source": [
    "\n",
    "###### Plot on Test-Data ######\n",
    "y_actual = X_test['cost']\n",
    "y_pred =X_test.drop('cost',axis=1).dot(w.T) + b\n",
    "\n",
    "\n",
    "plt.scatter(y_actual,y_pred)\n",
    "plt.xlabel('Actual Prices')\n",
    "plt.ylabel('Predicted Prices')\n",
    "plt.title('Actual vs Predicted prices with my SGDRegresson on TEST Data')\n",
    "plt.show()\n",
    "\n",
    "loss2 = mean_squared_error(y_actual, y_pred)\n",
    "print(\"Mean Squared Error: \",loss2)\n"
   ]
  },
  {
   "cell_type": "markdown",
   "metadata": {},
   "source": [
    "# 2. skLearn SGDRegressor"
   ]
  },
  {
   "cell_type": "markdown",
   "metadata": {},
   "source": [
    "#### > Regressor"
   ]
  },
  {
   "cell_type": "code",
   "execution_count": 451,
   "metadata": {
    "colab": {
     "base_uri": "https://localhost:8080/",
     "height": 34
    },
    "colab_type": "code",
    "executionInfo": {
     "elapsed": 879,
     "status": "ok",
     "timestamp": 1545718892607,
     "user": {
      "displayName": "Applied AI Course",
      "photoUrl": "https://lh5.googleusercontent.com/-9_3A9F-kDXs/AAAAAAAAAAI/AAAAAAAAACw/IprjYvUuoXQ/s64/photo.jpg",
      "userId": "00484516897554883881"
     },
     "user_tz": -330
    },
    "id": "HNu1sXtEBBS2",
    "outputId": "a0c5d3d0-345c-4a34-8ccf-0d9f3d7d23fd"
   },
   "outputs": [
    {
     "data": {
      "text/plain": [
       "SGDRegressor(alpha=0.0001, average=False, early_stopping=False, epsilon=0.1,\n",
       "       eta0=0.01, fit_intercept=True, l1_ratio=0.15,\n",
       "       learning_rate='constant', loss='squared_loss', max_iter=None,\n",
       "       n_iter=None, n_iter_no_change=9000, penalty='l2', power_t=0.25,\n",
       "       random_state=None, shuffle=True, tol=None, validation_fraction=0.1,\n",
       "       verbose=0, warm_start=False)"
      ]
     },
     "execution_count": 451,
     "metadata": {},
     "output_type": "execute_result"
    }
   ],
   "source": [
    "Y_train = np.array(Y_train)\n",
    "Y_test = np.array(Y_test)\n",
    "X_train = X_train.drop('cost',axis=1)\n",
    "X_test= X_test.drop('cost',axis=1)\n",
    "\n",
    "clf = SGDRegressor(learning_rate='constant', eta0=0.01, n_iter_no_change=9000)\n",
    "clf.fit(X_train, Y_train)\n"
   ]
  },
  {
   "cell_type": "markdown",
   "metadata": {},
   "source": [
    "####  > Graphical Analysis"
   ]
  },
  {
   "cell_type": "code",
   "execution_count": 452,
   "metadata": {},
   "outputs": [
    {
     "data": {
      "image/png": "[encoded data removed]",
      "text/plain": [
       "<Figure size 432x288 with 1 Axes>"
      ]
     },
     "metadata": {
      "needs_background": "light"
     },
     "output_type": "display_data"
    },
    {
     "name": "stdout",
     "output_type": "stream",
     "text": [
      "Mean Squared Error:  22.745116228084154\n"
     ]
    }
   ],
   "source": [
    "y_actual = Y_train\n",
    "y_pred = clf.predict(X_train)\n",
    "\n",
    "\n",
    "plt.scatter(y_actual,y_pred)\n",
    "plt.xlabel('Actual Prices')\n",
    "plt.ylabel('Predicted Prices')\n",
    "plt.title('Actual vs Predicted prices with sklearn regressor on TRAIN Data')\n",
    "plt.show()\n",
    "\n",
    "loss3 = mean_squared_error(y_actual, y_pred)\n",
    "\n",
    "print(\"Mean Squared Error: \",loss3)\n"
   ]
  },
  {
   "cell_type": "code",
   "execution_count": 453,
   "metadata": {},
   "outputs": [
    {
     "data": {
      "image/png": "[encoded data removed]",
      "text/plain": [
       "<Figure size 432x288 with 1 Axes>"
      ]
     },
     "metadata": {
      "needs_background": "light"
     },
     "output_type": "display_data"
    },
    {
     "name": "stdout",
     "output_type": "stream",
     "text": [
      "Mean Squared Error:  30.27464893481008\n"
     ]
    }
   ],
   "source": [
    "y_actual = Y_test\n",
    "y_pred = clf.predict(X_test)\n",
    "\n",
    "\n",
    "plt.scatter(y_actual,y_pred)\n",
    "plt.xlabel('Actual Prices')\n",
    "plt.ylabel('Predicted Prices')\n",
    "plt.title('Actual vs Predicted prices with sklearn regressor on TEST Data')\n",
    "plt.show()\n",
    "\n",
    "loss4 = mean_squared_error(y_actual, y_pred)\n",
    "\n",
    "print(\"Mean Squared Error: \",loss4)\n"
   ]
  },
  {
   "cell_type": "markdown",
   "metadata": {},
   "source": [
    "#### > Achieved Intercept "
   ]
  },
  {
   "cell_type": "code",
   "execution_count": 454,
   "metadata": {},
   "outputs": [
    {
     "name": "stdout",
     "output_type": "stream",
     "text": [
      "Achieved Intercept:   22.622194632661706\n"
     ]
    }
   ],
   "source": [
    "sk_intercept = clf.intercept_[0]\n",
    "print(\"Achieved Intercept:  \",sk_intercept)"
   ]
  },
  {
   "cell_type": "markdown",
   "metadata": {},
   "source": [
    "#### > Achieved Weight "
   ]
  },
  {
   "cell_type": "code",
   "execution_count": 455,
   "metadata": {},
   "outputs": [
    {
     "name": "stdout",
     "output_type": "stream",
     "text": [
      "Achieved Weight: \n",
      "\n",
      " [-0.37474646  0.75243763 -0.24566374  1.2251619  -1.21268371  3.77959719\n",
      " -0.40525349 -2.85149291  2.29981031 -1.22197153 -2.30492584  1.05325166\n",
      " -3.85688011 -1.65559428]\n"
     ]
    }
   ],
   "source": [
    "sk_weight = clf.coef_\n",
    "print(\"Achieved Weight: \\n\\n\", sk_weight)"
   ]
  },
  {
   "cell_type": "markdown",
   "metadata": {},
   "source": [
    "## Tabular Comaparision of weights and MSE achieved in both cases "
   ]
  },
  {
   "cell_type": "code",
   "execution_count": 456,
   "metadata": {},
   "outputs": [
    {
     "name": "stdout",
     "output_type": "stream",
     "text": [
      "+--------------+---------------------+--------------------------+\n",
      "| Wieght Index | MY REGRESSOR WEIGHT | SKLEARN REGRESSOR WEIGHT |\n",
      "+--------------+---------------------+--------------------------+\n",
      "|  weight[0]   |        1.1709       |         -0.3747          |\n",
      "|  weight[1]   |        0.7473       |          0.7524          |\n",
      "|  weight[2]   |       -0.7336       |         -0.2457          |\n",
      "|  weight[3]   |        0.5573       |          1.2252          |\n",
      "|  weight[4]   |       -1.2533       |         -1.2127          |\n",
      "|  weight[5]   |        3.2067       |          3.7796          |\n",
      "|  weight[6]   |       -0.2472       |         -0.4053          |\n",
      "|  weight[7]   |       -2.0516       |         -2.8515          |\n",
      "|  weight[8]   |        2.8340       |          2.2998          |\n",
      "|  weight[9]   |       -2.8388       |         -1.2220          |\n",
      "|  weight[10]  |       -2.5127       |         -2.3049          |\n",
      "|  weight[11]  |        0.8075       |          1.0533          |\n",
      "|  weight[12]  |       -3.4011       |         -3.8569          |\n",
      "|  weight[13]  |       -2.3581       |         -1.6556          |\n",
      "+--------------+---------------------+--------------------------+\n"
     ]
    }
   ],
   "source": [
    "\n",
    "from prettytable import PrettyTable\n",
    "x= PrettyTable()\n",
    "\n",
    "x.field_names = [\"Wieght Index\", \"MY REGRESSOR WEIGHT\", \"SKLEARN REGRESSOR WEIGHT\"]\n",
    "for q in range(len(w)):\n",
    "    x.add_row([\"weight[\"+str(q)+\"]\", \"{0:.4f}\".format(w[q]), \"{0:.4f}\".format(sk_weight[q])])\n",
    "\n",
    "print(x)"
   ]
  },
  {
   "cell_type": "code",
   "execution_count": 458,
   "metadata": {
    "scrolled": true
   },
   "outputs": [
    {
     "name": "stdout",
     "output_type": "stream",
     "text": [
      "My MSE on Train Data:  22.235266486672284\n",
      "Sklearn MSE on Train Data:  22.745116228084154\n"
     ]
    }
   ],
   "source": [
    "print('My MSE on Train Data: ', loss1)\n",
    "print('Sklearn MSE on Train Data: ', loss3)\n"
   ]
  },
  {
   "cell_type": "code",
   "execution_count": 459,
   "metadata": {},
   "outputs": [
    {
     "name": "stdout",
     "output_type": "stream",
     "text": [
      "My MSE on Test Data:  33.45862666219906\n",
      "Sklearn MSE on Test Data:  30.27464893481008\n"
     ]
    }
   ],
   "source": [
    "print('My MSE on Test Data: ', loss2)\n",
    "print('Sklearn MSE on Test Data: ', loss4)"
   ]
  },
  {
   "cell_type": "markdown",
   "metadata": {},
   "source": [
    "## CONCLUSIONS"
   ]
  },
  {
   "cell_type": "markdown",
   "metadata": {},
   "source": [
    "\n",
    "\n",
    "##### FEATURISATION-LOGIC\n",
    "\n",
    "##### * Featurisation formula:  bos[13] = 1000 * bos[0]*bos[4]  * bos[5]/(bos[7] * bos[9])\n",
    "\n",
    "*  bos[0] => Crime-Rate | range = [0,1) | needs to be minimised hence multiplied\n",
    "*  bos[4] => Nitric-Oxide(NO) | range = [0,1) | needs to be minimised hence multiplied\n",
    "*  bos[5] => no. of rooms/dwell | range>=0 | needs to be maximised hence multiplied\n",
    "*  bos[7] => Distance to employment centres | range>=1(in-general) |needs to be minimised hence divided\n",
    "*  bos[9] => Tax | range>=1(in-general) | needs to be minimised hence divided\n",
    "\n",
    "*  new dataFrame is having a new custom column-13 which has featurised value by me and further to give some wightage to these custom-column13-values, 100 is multiplied in above featurisation formula\n",
    "\n",
    "##### Others Conclusions\n",
    "\n",
    "* After trying numerous combinations of batch_size, n_iter, and learning_rate above used values are the one which results in most relatable skLearn outputs.\n",
    "\n",
    "* Achieved MSE on my SGDRegressor is almost same as that of skLearn's Regressor in case of Train Data.\n",
    "\n",
    "* In case of Test Data, achived MSE differs by just 3 units as compared to skLearn's Regressor. That I consider is NO bad.\n",
    "\n",
    "* Since model is stochastic i.e it follows probabilistic methadology, so results may differ after every run but on every run MSE does not differ by more than just 3 or 4\n"
   ]
  },
  {
   "cell_type": "code",
   "execution_count": null,
   "metadata": {},
   "outputs": [],
   "source": []
  }
 ],
 "metadata": {
  "colab": {
   "name": "Untitled3.ipynb",
   "provenance": [],
   "version": "0.3.2"
  },
  "kernelspec": {
   "display_name": "Python 3",
   "language": "python",
   "name": "python3"
  },
  "language_info": {
   "codemirror_mode": {
    "name": "ipython",
    "version": 3
   },
   "file_extension": ".py",
   "mimetype": "text/x-python",
   "name": "python",
   "nbconvert_exporter": "python",
   "pygments_lexer": "ipython3",
   "version": "3.7.1"
  }
 },
 "nbformat": 4,
 "nbformat_minor": 1
}
